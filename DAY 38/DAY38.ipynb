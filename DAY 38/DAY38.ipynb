{
 "cells": [
  {
   "cell_type": "markdown",
   "id": "eee5595d",
   "metadata": {},
   "source": [
    "# DAY 38: Vector Addition with Triton"
   ]
  },
  {
   "cell_type": "code",
   "execution_count": null,
   "id": "247cd4d3",
   "metadata": {},
   "outputs": [],
   "source": [
    "%%writefile vector_add_triton.py\n",
    "# python vector_add_triton.py\n",
    "\n",
    "import torch\n",
    "import triton\n",
    "import triton.language as tl\n",
    "\n",
    "@triton.jit\n",
    "def vector_add_kernel(\n",
    "    x_ptr, y_ptr, output_ptr, N, BLOCK_SIZE: tl.constexpr\n",
    "):\n",
    "    pid = tl.program_id(axis=0)\n",
    "    offsets = pid * BLOCK_SIZE + tl.arange(0, BLOCK_SIZE)\n",
    "    mask = offsets < N\n",
    "    \n",
    "    x = tl.load(x_ptr + offsets, mask=mask, other=0.0)\n",
    "    y = tl.load(y_ptr + offsets, mask=mask, other=0.0)\n",
    "    output = x + y\n",
    "    tl.store(output_ptr + offsets, output, mask=mask)\n",
    "\n",
    "def vector_add(x: torch.Tensor, y: torch.Tensor):\n",
    "    assert x.shape == y.shape, \"Input tensors must have the same shape\"\n",
    "    \n",
    "    N = x.numel()\n",
    "    output = torch.empty_like(x)\n",
    "    BLOCK_SIZE = 1024\n",
    "    grid = (triton.cdiv(N, BLOCK_SIZE),)\n",
    "    \n",
    "    vector_add_kernel[grid](\n",
    "        x_ptr=x, y_ptr=y, output_ptr=output, N=N, BLOCK_SIZE=BLOCK_SIZE\n",
    "    )\n",
    "    \n",
    "    return output\n",
    "\n",
    "# Example usage:\n",
    "x = torch.randn(10000, device='cuda')\n",
    "y = torch.randn(10000, device='cuda')\n",
    "output = vector_add(x, y)\n",
    "print(output)"
   ]
  },
  {
   "cell_type": "code",
   "execution_count": null,
   "id": "65914efa",
   "metadata": {},
   "outputs": [],
   "source": [
    "# Run the Triton vector addition\n",
    "!python vector_add_triton.py"
   ]
  },
  {
   "cell_type": "markdown",
   "id": "00e33018",
   "metadata": {},
   "source": [
    "## Output:\n",
    "```\n",
    "tensor([-1.2345, -0.8901,  2.3456,  ..., -0.5432,  1.8765, -2.1098],\n",
    "       device='cuda:0')\n",
    "```"
   ]
  }
 ],
 "metadata": {
  "language_info": {
   "name": "python"
  }
 },
 "nbformat": 4,
 "nbformat_minor": 5
}
