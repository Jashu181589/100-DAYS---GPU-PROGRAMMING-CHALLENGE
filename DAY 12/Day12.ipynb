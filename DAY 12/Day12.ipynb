{
  "nbformat": 4,
  "nbformat_minor": 0,
  "metadata": {
    "colab": {
      "provenance": [],
      "gpuType": "T4"
    },
    "kernelspec": {
      "name": "python3",
      "display_name": "Python 3"
    },
    "language_info": {
      "name": "python"
    },
    "accelerator": "GPU"
  },
  "cells": [
    {
      "cell_type": "code",
      "source": [
        "!nvcc --version\n"
      ],
      "metadata": {
        "colab": {
          "base_uri": "https://localhost:8080/"
        },
        "id": "d9l2HBgxX8JF",
        "outputId": "5054e4d5-3fe6-43f9-a1d9-2b2e8a043049"
      },
      "execution_count": 3,
      "outputs": [
        {
          "output_type": "stream",
          "name": "stdout",
          "text": [
            "nvcc: NVIDIA (R) Cuda compiler driver\n",
            "Copyright (c) 2005-2024 NVIDIA Corporation\n",
            "Built on Thu_Jun__6_02:18:23_PDT_2024\n",
            "Cuda compilation tools, release 12.5, V12.5.82\n",
            "Build cuda_12.5.r12.5/compiler.34385749_0\n"
          ]
        }
      ]
    },
    {
      "cell_type": "code",
      "source": [
        "%%writefile parallel_merge.cu\n",
        "#include <stdio.h>\n",
        "#include <cuda.h>\n",
        "#include <algorithm> // For max and min\n",
        "#include <limits.h>  // For INT_MIN and INT_MAX\n",
        "\n",
        "// Simple sequential merge function as a backup\n",
        "void sequential_merge(const int* A, const int* B, int* C, int N, int M) {\n",
        "    int i = 0, j = 0, k = 0;\n",
        "\n",
        "    while (i < N && j < M) {\n",
        "        if (A[i] <= B[j]) {\n",
        "            C[k++] = A[i++];\n",
        "        } else {\n",
        "            C[k++] = B[j++];\n",
        "        }\n",
        "    }\n",
        "\n",
        "    // Copy remaining elements\n",
        "    while (i < N) C[k++] = A[i++];\n",
        "    while (j < M) C[k++] = B[j++];\n",
        "}\n",
        "\n",
        "__device__ void co_rank(const int* A, const int* B, int k, int N, int M, int &i_out, int &j_out) {\n",
        "    int low = max(0, k - M);\n",
        "    int high = min(k, N);\n",
        "\n",
        "    while (low <= high) {\n",
        "        int i = (low + high) / 2;\n",
        "        int j = k - i;\n",
        "\n",
        "        // Boundary conditions\n",
        "        int Ai_1 = (i > 0) ? A[i - 1] : INT_MIN;\n",
        "        int Bj_1 = (j > 0) ? B[j - 1] : INT_MIN;\n",
        "        int Ai = (i < N) ? A[i] : INT_MAX;\n",
        "        int Bj = (j < M) ? B[j] : INT_MAX;\n",
        "\n",
        "        if (Ai_1 > Bj) {\n",
        "            high = i - 1;\n",
        "        }\n",
        "        else if (Bj_1 > Ai) {\n",
        "            low = i + 1;\n",
        "        }\n",
        "        else {\n",
        "            i_out = i;\n",
        "            j_out = j;\n",
        "            return;\n",
        "        }\n",
        "    }\n",
        "\n",
        "    // Default values if we somehow exit the loop without finding a valid solution\n",
        "    i_out = min(k, N);\n",
        "    j_out = k - i_out;\n",
        "}\n",
        "\n",
        "__global__ void parallel_merge_kernel(const int* A, const int* B, int* C, int N, int M) {\n",
        "    int tid = blockIdx.x * blockDim.x + threadIdx.x;\n",
        "\n",
        "    if (tid < N + M) {\n",
        "        int i, j;\n",
        "        co_rank(A, B, tid, N, M, i, j);\n",
        "\n",
        "        // Select the correct element for position tid\n",
        "        if (i < N && (j >= M || A[i] <= B[j])) {\n",
        "            C[tid] = A[i];\n",
        "        } else if (j < M) {\n",
        "            C[tid] = B[j];\n",
        "        }\n",
        "    }\n",
        "}\n",
        "\n",
        "int main() {\n",
        "    const int N = 5;\n",
        "    const int M = 5;\n",
        "    int A[N] = {0, 2, 4, 6, 8};\n",
        "    int B[M] = {1, 3, 5, 7, 9};\n",
        "    int C[N+M] = {0}; // Initialize with zeros\n",
        "\n",
        "    printf(\"Array A: \");\n",
        "    for (int i = 0; i < N; i++) printf(\"%d \", A[i]);\n",
        "    printf(\"\\n\");\n",
        "\n",
        "    printf(\"Array B: \");\n",
        "    for (int i = 0; i < M; i++) printf(\"%d \", B[i]);\n",
        "    printf(\"\\n\");\n",
        "\n",
        "    // Try CUDA implementation\n",
        "    bool cuda_success = false;\n",
        "\n",
        "    // Attempt CUDA merge\n",
        "    int *d_A = NULL, *d_B = NULL, *d_C = NULL;\n",
        "    cudaError_t err;\n",
        "\n",
        "    // Allocate device memory\n",
        "    err = cudaMalloc(&d_A, N * sizeof(int));\n",
        "    if (err != cudaSuccess) {\n",
        "        printf(\"Error allocating d_A: %s\\n\", cudaGetErrorString(err));\n",
        "        goto cleanup;\n",
        "    }\n",
        "\n",
        "    err = cudaMalloc(&d_B, M * sizeof(int));\n",
        "    if (err != cudaSuccess) {\n",
        "        printf(\"Error allocating d_B: %s\\n\", cudaGetErrorString(err));\n",
        "        goto cleanup;\n",
        "    }\n",
        "\n",
        "    err = cudaMalloc(&d_C, (N + M) * sizeof(int));\n",
        "    if (err != cudaSuccess) {\n",
        "        printf(\"Error allocating d_C: %s\\n\", cudaGetErrorString(err));\n",
        "        goto cleanup;\n",
        "    }\n",
        "\n",
        "    // Copy data to device\n",
        "    err = cudaMemcpy(d_A, A, N * sizeof(int), cudaMemcpyHostToDevice);\n",
        "    if (err != cudaSuccess) {\n",
        "        printf(\"Error copying to d_A: %s\\n\", cudaGetErrorString(err));\n",
        "        goto cleanup;\n",
        "    }\n",
        "\n",
        "    err = cudaMemcpy(d_B, B, M * sizeof(int), cudaMemcpyHostToDevice);\n",
        "    if (err != cudaSuccess) {\n",
        "        printf(\"Error copying to d_B: %s\\n\", cudaGetErrorString(err));\n",
        "        goto cleanup;\n",
        "    }\n",
        "\n",
        "    // Clear output array\n",
        "    err = cudaMemset(d_C, 0, (N + M) * sizeof(int));\n",
        "    if (err != cudaSuccess) {\n",
        "        printf(\"Error in cudaMemset: %s\\n\", cudaGetErrorString(err));\n",
        "        goto cleanup;\n",
        "    }\n",
        "\n",
        "    // Launch kernel\n",
        "    parallel_merge_kernel<<<1, N+M>>>(d_A, d_B, d_C, N, M);\n",
        "\n",
        "    // Check for kernel errors\n",
        "    err = cudaGetLastError();\n",
        "    if (err != cudaSuccess) {\n",
        "        printf(\"Kernel error: %s\\n\", cudaGetErrorString(err));\n",
        "        goto cleanup;\n",
        "    }\n",
        "\n",
        "    err = cudaDeviceSynchronize();\n",
        "    if (err != cudaSuccess) {\n",
        "        printf(\"Error in cudaDeviceSynchronize: %s\\n\", cudaGetErrorString(err));\n",
        "        goto cleanup;\n",
        "    }\n",
        "\n",
        "    // Copy results back to host\n",
        "    err = cudaMemcpy(C, d_C, (N + M) * sizeof(int), cudaMemcpyDeviceToHost);\n",
        "    if (err != cudaSuccess) {\n",
        "        printf(\"Error copying from d_C: %s\\n\", cudaGetErrorString(err));\n",
        "        goto cleanup;\n",
        "    }\n",
        "\n",
        "    cuda_success = true;\n",
        "\n",
        "cleanup:\n",
        "    // Free device memory\n",
        "    if (d_A) cudaFree(d_A);\n",
        "    if (d_B) cudaFree(d_B);\n",
        "    if (d_C) cudaFree(d_C);\n",
        "\n",
        "    // If CUDA failed, use sequential merge as fallback\n",
        "    if (!cuda_success) {\n",
        "        printf(\"CUDA implementation failed. Using CPU implementation.\\n\");\n",
        "        sequential_merge(A, B, C, N, M);\n",
        "    } else {\n",
        "        printf(\"CUDA implementation successful.\\n\");\n",
        "    }\n",
        "\n",
        "    printf(\"Merged array: \");\n",
        "    for (int i = 0; i < N + M; i++) printf(\"%d \", C[i]);\n",
        "    printf(\"\\n\");\n",
        "\n",
        "    return 0;\n",
        "}"
      ],
      "metadata": {
        "colab": {
          "base_uri": "https://localhost:8080/"
        },
        "id": "_krKtScGWpWl",
        "outputId": "aec0496c-2d57-4e4f-dc99-d72aadf0c243"
      },
      "execution_count": 12,
      "outputs": [
        {
          "output_type": "stream",
          "name": "stdout",
          "text": [
            "Overwriting parallel_merge.cu\n"
          ]
        }
      ]
    },
    {
      "cell_type": "code",
      "source": [
        "!nvcc -o parallel_merge parallel_merge.cu\n"
      ],
      "metadata": {
        "id": "xLc6p2OTXJqu"
      },
      "execution_count": 13,
      "outputs": []
    },
    {
      "cell_type": "code",
      "source": [
        "!./parallel_merge\n",
        "\n"
      ],
      "metadata": {
        "colab": {
          "base_uri": "https://localhost:8080/"
        },
        "id": "UdF-fD4-XNhX",
        "outputId": "8ebe7204-57f0-462c-d332-114c4bf516d4"
      },
      "execution_count": 14,
      "outputs": [
        {
          "output_type": "stream",
          "name": "stdout",
          "text": [
            "Array A: 0 2 4 6 8 \n",
            "Array B: 1 3 5 7 9 \n",
            "Kernel error: the provided PTX was compiled with an unsupported toolchain.\n",
            "CUDA implementation failed. Using CPU implementation.\n",
            "Merged array: 0 1 2 3 4 5 6 7 8 9 \n"
          ]
        }
      ]
    },
    {
      "cell_type": "code",
      "source": [],
      "metadata": {
        "id": "zR7QIo-ecCl4"
      },
      "execution_count": null,
      "outputs": []
    }
  ]
}