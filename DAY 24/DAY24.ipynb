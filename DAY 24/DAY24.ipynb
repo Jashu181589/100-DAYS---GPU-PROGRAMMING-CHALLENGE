{
 "cells": [
  {
   "cell_type": "markdown",
   "id": "e37094e3",
   "metadata": {},
   "source": [
    "# DAY 24: Custom Atomic Operations in CUDA"
   ]
  },
  {
   "cell_type": "code",
   "execution_count": null,
   "id": "6adde2ea",
   "metadata": {},
   "outputs": [],
   "source": [
    "%%writefile atomic_ops.cu\n",
    "// nvcc atomic_ops.cu -o atomic_ops\n",
    "\n",
    "#include <stdio.h>\n",
    "\n",
    "__device__ long long atomicAddLL(long long *addr, long long val) {\n",
    "    unsigned long long *uaddr = (unsigned long long *)addr;\n",
    "    unsigned long long old = *uaddr, assumed;\n",
    "    do {\n",
    "        assumed = old;\n",
    "        old = atomicCAS(uaddr, assumed, assumed + val);\n",
    "    } while (assumed != old);\n",
    "    return (long long)old;\n",
    "}\n",
    "\n",
    "__global__ void atomicAddKernel(long long *data) {\n",
    "    int tid = threadIdx.x + blockIdx.x * blockDim.x;\n",
    "    atomicAddLL(data, tid);\n",
    "}\n",
    "\n",
    "int main() {\n",
    "    long long *d_data;\n",
    "    long long h_data = 0;\n",
    "\n",
    "    cudaMalloc(&d_data, sizeof(long long));\n",
    "    cudaMemcpy(d_data, &h_data, sizeof(long long), cudaMemcpyHostToDevice);\n",
    "\n",
    "    int threadsPerBlock = 256;\n",
    "    int blocksPerGrid = 4;\n",
    "    \n",
    "    // Correct kernel launch\n",
    "    atomicAddKernel<<<blocksPerGrid, threadsPerBlock>>>(d_data);\n",
    "    cudaDeviceSynchronize();\n",
    "\n",
    "    cudaMemcpy(&h_data, d_data, sizeof(long long), cudaMemcpyDeviceToHost);\n",
    "    printf(\"Final value: %lld\\n\", h_data); // Expected: Sum of thread indices\n",
    "\n",
    "    cudaFree(d_data);\n",
    "    return 0;\n",
    "}"
   ]
  },
  {
   "cell_type": "code",
   "execution_count": null,
   "id": "e8c6257f",
   "metadata": {},
   "outputs": [],
   "source": [
    "# Compile and run the custom atomic operations implementation\n",
    "!nvcc atomic_ops.cu -o atomic_ops\n",
    "!./atomic_ops"
   ]
  },
  {
   "cell_type": "markdown",
   "id": "6a41bd4d",
   "metadata": {},
   "source": [
    "## Output:\n",
    "```\n",
    "Final value: 523776\n",
    "```"
   ]
  }
 ],
 "metadata": {
  "language_info": {
   "name": "python"
  }
 },
 "nbformat": 4,
 "nbformat_minor": 5
}
