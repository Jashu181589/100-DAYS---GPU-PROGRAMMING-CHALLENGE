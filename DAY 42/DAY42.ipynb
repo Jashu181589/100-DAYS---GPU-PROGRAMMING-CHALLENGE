{
 "cells": [
  {
   "cell_type": "markdown",
   "id": "8b663eb4",
   "metadata": {},
   "source": [
    "# DAY 42: 1D Convolution with Triton"
   ]
  },
  {
   "cell_type": "code",
   "execution_count": null,
   "id": "a3485550",
   "metadata": {},
   "outputs": [],
   "source": [
    "%%writefile conv1d_triton.py\n",
    "# python conv1d_triton.py\n",
    "\n",
    "import torch\n",
    "import triton\n",
    "import triton.language as tl\n",
    "\n",
    "@triton.jit\n",
    "def conv1d_kernel(\n",
    "    input_ptr, kernel_ptr, output_ptr, \n",
    "    BATCH, IN_CH, OUT_CH, IN_LEN, KERNEL_SIZE, STRIDE, OUT_LEN, \n",
    "    BLOCK_B: tl.constexpr, BLOCK_OUT: tl.constexpr\n",
    "):\n",
    "    b = tl.program_id(0)\n",
    "    oc = tl.program_id(1)\n",
    "    out_idx = tl.program_id(2) * BLOCK_OUT + tl.arange(0, BLOCK_OUT)\n",
    "    \n",
    "    mask = out_idx < OUT_LEN\n",
    "    \n",
    "    acc = tl.zeros([BLOCK_OUT], dtype=tl.float32)\n",
    "    \n",
    "    for ic in range(IN_CH):\n",
    "        for k in range(KERNEL_SIZE):\n",
    "            in_idx = out_idx * STRIDE + k\n",
    "            in_mask = in_idx < IN_LEN\n",
    "            \n",
    "            input_offset = ((b * IN_CH + ic) * IN_LEN) + in_idx\n",
    "            kernel_offset = ((oc * IN_CH + ic) * KERNEL_SIZE) + k\n",
    "            \n",
    "            input_val = tl.load(input_ptr + input_offset, mask=in_mask, other=0.0)\n",
    "            kernel_val = tl.load(kernel_ptr + kernel_offset)\n",
    "            \n",
    "            acc += input_val * kernel_val\n",
    "    \n",
    "    output_offset = (b * OUT_CH + oc) * OUT_LEN + out_idx\n",
    "    tl.store(output_ptr + output_offset, acc, mask=mask)\n",
    "\n",
    "\n",
    "def conv1d_triton(input, kernel, stride=1):\n",
    "    BATCH, IN_CH, IN_LEN = input.shape\n",
    "    OUT_CH, _, KERNEL_SIZE = kernel.shape\n",
    "    OUT_LEN = (IN_LEN - KERNEL_SIZE) // stride + 1\n",
    "    \n",
    "    output = torch.empty((BATCH, OUT_CH, OUT_LEN), device=input.device, dtype=torch.float32)\n",
    "    \n",
    "    grid = (BATCH, OUT_CH, (OUT_LEN + 31) // 32)\n",
    "    \n",
    "    conv1d_kernel[grid](\n",
    "        input, kernel, output, \n",
    "        BATCH, IN_CH, OUT_CH, IN_LEN, KERNEL_SIZE, stride, OUT_LEN,\n",
    "        BLOCK_B=1, BLOCK_OUT=32\n",
    "    )\n",
    "    \n",
    "    return output\n",
    "\n",
    "# Example usage\n",
    "BATCH, IN_CH, IN_LEN = 1, 3, 64\n",
    "OUT_CH, KERNEL_SIZE, STRIDE = 8, 5, 1\n",
    "\n",
    "torch.manual_seed(0)\n",
    "input_tensor = torch.randn(BATCH, IN_CH, IN_LEN, device='cuda')\n",
    "kernel_tensor = torch.randn(OUT_CH, IN_CH, KERNEL_SIZE, device='cuda')\n",
    "\n",
    "output_tensor = conv1d_triton(input_tensor, kernel_tensor, STRIDE)\n",
    "print(output_tensor.shape)"
   ]
  },
  {
   "cell_type": "code",
   "execution_count": null,
   "id": "9083129c",
   "metadata": {},
   "outputs": [],
   "source": [
    "# Run the 1D convolution with Triton\n",
    "!python conv1d_triton.py"
   ]
  },
  {
   "cell_type": "markdown",
   "id": "bbbae174",
   "metadata": {},
   "source": [
    "## Output:\n",
    "```\n",
    "torch.Size([1, 8, 60])\n",
    "```"
   ]
  }
 ],
 "metadata": {
  "language_info": {
   "name": "python"
  }
 },
 "nbformat": 4,
 "nbformat_minor": 5
}
